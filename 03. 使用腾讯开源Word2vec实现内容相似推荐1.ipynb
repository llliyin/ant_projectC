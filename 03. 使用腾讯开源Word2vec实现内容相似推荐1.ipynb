{
 "cells": [
  {
   "cell_type": "markdown",
   "metadata": {},
   "source": [
    "## 使用腾讯开源Word2vec实现内容相似推荐\n",
    "\n",
    "下载地址：https://ai.tencent.com/ailab/nlp/embedding.html\n",
    "\n",
    "数据格式：\n",
    "* 下载后解压文件名为Tencent_AILab_ChineseEmbedding.txt\n",
    "* 第一行是8824330 200，即行数和维度数\n",
    "* 之后的每行，用空格分隔201列，其中第一个是词语，后面是Embedding\n",
    "\n",
    "\n",
    "实现步骤：\n",
    "1. 获取文章列表数据，包括ID、标题、内容\n",
    "2. 使用jieba实现关键词提取\n",
    "3. 查询腾讯word2vec，平均法得到文档embedding\n",
    "4. 对于输入的ID，计算最相似的文章列表"
   ]
  },
  {
   "cell_type": "markdown",
   "metadata": {},
   "source": [
    "### 1. 获取数据"
   ]
  },
  {
   "cell_type": "code",
   "execution_count": 2,
   "metadata": {},
   "outputs": [],
   "source": [
    "import pandas as pd\n",
    "import numpy as np"
   ]
  },
  {
   "cell_type": "code",
   "execution_count": 3,
   "metadata": {},
   "outputs": [
    {
     "data": {
      "text/html": [
       "<div>\n",
       "<style scoped>\n",
       "    .dataframe tbody tr th:only-of-type {\n",
       "        vertical-align: middle;\n",
       "    }\n",
       "\n",
       "    .dataframe tbody tr th {\n",
       "        vertical-align: top;\n",
       "    }\n",
       "\n",
       "    .dataframe thead th {\n",
       "        text-align: right;\n",
       "    }\n",
       "</style>\n",
       "<table border=\"1\" class=\"dataframe\">\n",
       "  <thead>\n",
       "    <tr style=\"text-align: right;\">\n",
       "      <th></th>\n",
       "      <th>id</th>\n",
       "      <th>post_title</th>\n",
       "      <th>words</th>\n",
       "    </tr>\n",
       "  </thead>\n",
       "  <tbody>\n",
       "    <tr>\n",
       "      <th>0</th>\n",
       "      <td>78</td>\n",
       "      <td>JavaScript对Select的子元素Option的操作</td>\n",
       "      <td>javascript select 元素 option 操作 javascript 删除 所...</td>\n",
       "    </tr>\n",
       "    <tr>\n",
       "      <th>1</th>\n",
       "      <td>83</td>\n",
       "      <td>当用header方法输出内容时出现“Cannot modify header informa...</td>\n",
       "      <td>当用 header 方法 输出 内容 出现 cannot modify header inf...</td>\n",
       "    </tr>\n",
       "    <tr>\n",
       "      <th>2</th>\n",
       "      <td>85</td>\n",
       "      <td>linux下禁止机箱蜂鸣方法</td>\n",
       "      <td>linux 禁止 机箱 蜂鸣 方法 图像 界面 注意 图形界面 即使 图像 界面 快捷键 出...</td>\n",
       "    </tr>\n",
       "    <tr>\n",
       "      <th>3</th>\n",
       "      <td>87</td>\n",
       "      <td>硬盘分区表丢失、修复大事记--分区表修复利器testdisk</td>\n",
       "      <td>硬盘分区 丢失 修复 大事记 -- 分区表 修复 利器 testdisk 今天 2009 1...</td>\n",
       "    </tr>\n",
       "    <tr>\n",
       "      <th>4</th>\n",
       "      <td>91</td>\n",
       "      <td>vi编辑器命令</td>\n",
       "      <td>vi 编辑器 命令 vi 编辑器 文字说明 模式 命令 模式 编辑 模式 末行 模式 切换 ...</td>\n",
       "    </tr>\n",
       "  </tbody>\n",
       "</table>\n",
       "</div>"
      ],
      "text/plain": [
       "   id                                         post_title  \\\n",
       "0  78                     JavaScript对Select的子元素Option的操作   \n",
       "1  83  当用header方法输出内容时出现“Cannot modify header informa...   \n",
       "2  85                                     linux下禁止机箱蜂鸣方法   \n",
       "3  87                     硬盘分区表丢失、修复大事记--分区表修复利器testdisk   \n",
       "4  91                                            vi编辑器命令   \n",
       "\n",
       "                                               words  \n",
       "0  javascript select 元素 option 操作 javascript 删除 所...  \n",
       "1  当用 header 方法 输出 内容 出现 cannot modify header inf...  \n",
       "2  linux 禁止 机箱 蜂鸣 方法 图像 界面 注意 图形界面 即使 图像 界面 快捷键 出...  \n",
       "3  硬盘分区 丢失 修复 大事记 -- 分区表 修复 利器 testdisk 今天 2009 1...  \n",
       "4  vi 编辑器 命令 vi 编辑器 文字说明 模式 命令 模式 编辑 模式 末行 模式 切换 ...  "
      ]
     },
     "execution_count": 3,
     "metadata": {},
     "output_type": "execute_result"
    }
   ],
   "source": [
    "df = pd.read_csv(\"./datas/crazyant_blog_articles_wordsegs.csv\")\n",
    "df.head()"
   ]
  },
  {
   "cell_type": "markdown",
   "metadata": {},
   "source": [
    "### 2. 查询腾讯数据集计算文档Embedding"
   ]
  },
  {
   "cell_type": "markdown",
   "metadata": {},
   "source": [
    "#### 去重后的词表"
   ]
  },
  {
   "cell_type": "code",
   "execution_count": 8,
   "metadata": {},
   "outputs": [
    {
     "data": {
      "text/plain": [
       "14869"
      ]
     },
     "execution_count": 8,
     "metadata": {},
     "output_type": "execute_result"
    }
   ],
   "source": [
    "all_words = set()\n",
    "for idx, row in df.iterrows():\n",
    "    all_words.update(row[\"words\"].split())\n",
    "len(all_words)"
   ]
  },
  {
   "cell_type": "markdown",
   "metadata": {},
   "source": [
    "#### 查询候选词语的腾讯wordEmbedding"
   ]
  },
  {
   "cell_type": "code",
   "execution_count": 22,
   "metadata": {
    "scrolled": true
   },
   "outputs": [],
   "source": [
    "# 候选词语的embedding\n",
    "word_embedding = {}\n",
    "\n",
    "is_first_line = True\n",
    "# with open(\"/home/pss/windir/Tencent_AILab_ChineseEmbedding.txt\") as fin:\n",
    "with open(\"./datas/small_tencent_embedding.txt\",encoding='utf-8') as fin:\n",
    "    for line in fin:\n",
    "        if is_first_line: \n",
    "            is_first_line = False\n",
    "            continue\n",
    "        fields = line[:-1].split()\n",
    "        if len(fields) != 201:\n",
    "            continue\n",
    "        word = fields[0]\n",
    "        if word in all_words:\n",
    "            word_embedding[word] = np.array([float(x) for x in fields[1:]])"
   ]
  },
  {
   "cell_type": "code",
   "execution_count": 23,
   "metadata": {},
   "outputs": [
    {
     "name": "stdout",
     "output_type": "stream",
     "text": [
      "11378 [ 0.382475  0.156139  0.062302  0.030984  0.481495 -0.070564  0.466484\n",
      "  0.546035 -0.238761 -0.126754  0.063588  0.091173 -0.272091 -0.113122\n",
      "  0.170998 -0.139973 -0.335421 -0.1836   -0.119432 -0.026666 -0.524403\n",
      " -0.290163 -0.495772  0.136166  0.074637  0.126304 -0.41948   0.271968\n",
      "  0.447399  0.041005 -0.180788  0.101531  0.333039  0.013628  0.052285\n",
      " -0.433536  0.494823 -0.29307  -0.073794  0.260313 -0.052784 -0.226162\n",
      "  0.791509 -0.203396  0.059075 -0.082627 -0.423575 -0.371575 -0.568254\n",
      "  0.134853  0.174628  0.138118  0.059341 -0.405463  0.452836 -0.067161\n",
      "  0.236258  0.347981  0.16007  -0.213742  0.047517  0.232295 -0.151182\n",
      "  0.011967 -0.528855 -0.566595  0.287433  1.006496  0.00421   0.031725\n",
      " -0.543762  0.194417  0.028565 -0.086813  0.005247  0.582514 -0.241997\n",
      "  0.249292  0.14645   0.213583  0.241735 -0.29941  -0.192367  0.115289\n",
      "  0.193353 -0.717468 -0.139603  0.110287 -0.104537  0.076995  0.669608\n",
      "  0.192023 -0.157454  0.015251  0.42727   0.442922 -0.302943 -0.308798\n",
      " -0.374949 -0.039363 -0.279962 -0.403831 -0.172874 -0.133776 -0.229774\n",
      "  0.078177  0.259441 -0.601561  0.506313 -0.105971 -0.13219  -0.594944\n",
      "  0.140356 -0.288789 -0.538704  0.168588  0.332293 -0.230388  0.082054\n",
      " -0.310356  0.419455 -0.522421 -0.115699  0.164517 -0.069782 -0.157018\n",
      " -0.334557 -0.251582 -0.590902  0.226033  0.398092 -0.091599  0.091727\n",
      " -0.58307  -0.336118  0.156774 -0.143228 -0.177227 -0.074846 -0.185674\n",
      " -0.314648 -0.515832 -0.202507 -0.496272  0.52302  -0.452872  0.142403\n",
      "  0.745848  0.39067   0.140554 -0.12223   0.138288  0.075117 -0.319113\n",
      "  0.277703  0.258449 -0.33654   0.349149 -0.191787  0.049775  0.687543\n",
      " -0.03194  -0.196278 -0.017717 -0.257426 -0.16031  -0.462313  0.046826\n",
      "  0.877917 -0.300582 -0.15293  -0.06792   0.022872  0.628877 -0.216007\n",
      " -0.157061 -0.217871  0.247333 -0.481145  0.449098  0.073597 -0.613611\n",
      "  0.403303  0.08095  -0.121972  0.029561 -0.053261  0.058306  0.039042\n",
      "  0.062777  0.153255  0.25143   0.047837 -0.003452  0.474237  0.277556\n",
      "  0.559055  0.138842 -0.240994  0.649724]\n"
     ]
    }
   ],
   "source": [
    "print(len(word_embedding), word_embedding[\"python\"])"
   ]
  },
  {
   "cell_type": "markdown",
   "metadata": {},
   "source": [
    "#### 计算每篇文章的doc embedding"
   ]
  },
  {
   "cell_type": "code",
   "execution_count": 24,
   "metadata": {},
   "outputs": [],
   "source": [
    "def compute_doc_vector(words):\n",
    "    words = words.split()\n",
    "    embeddings = []\n",
    "    for word in words:\n",
    "        if word in word_embedding:\n",
    "            embeddings.append(word_embedding[word])\n",
    "    return np.sum(embeddings, axis=0) / len(embeddings)\n",
    "\n",
    "df[\"doc_vector\"] = df[\"words\"].map(compute_doc_vector)"
   ]
  },
  {
   "cell_type": "code",
   "execution_count": 25,
   "metadata": {},
   "outputs": [
    {
     "data": {
      "text/html": [
       "<div>\n",
       "<style scoped>\n",
       "    .dataframe tbody tr th:only-of-type {\n",
       "        vertical-align: middle;\n",
       "    }\n",
       "\n",
       "    .dataframe tbody tr th {\n",
       "        vertical-align: top;\n",
       "    }\n",
       "\n",
       "    .dataframe thead th {\n",
       "        text-align: right;\n",
       "    }\n",
       "</style>\n",
       "<table border=\"1\" class=\"dataframe\">\n",
       "  <thead>\n",
       "    <tr style=\"text-align: right;\">\n",
       "      <th></th>\n",
       "      <th>id</th>\n",
       "      <th>post_title</th>\n",
       "      <th>words</th>\n",
       "      <th>doc_vector</th>\n",
       "    </tr>\n",
       "  </thead>\n",
       "  <tbody>\n",
       "    <tr>\n",
       "      <th>0</th>\n",
       "      <td>78</td>\n",
       "      <td>JavaScript对Select的子元素Option的操作</td>\n",
       "      <td>javascript select 元素 option 操作 javascript 删除 所...</td>\n",
       "      <td>[-0.009905433333333337, -0.035128016666666616,...</td>\n",
       "    </tr>\n",
       "    <tr>\n",
       "      <th>1</th>\n",
       "      <td>83</td>\n",
       "      <td>当用header方法输出内容时出现“Cannot modify header informa...</td>\n",
       "      <td>当用 header 方法 输出 内容 出现 cannot modify header inf...</td>\n",
       "      <td>[0.173896275, -0.12689985, -0.0503381250000000...</td>\n",
       "    </tr>\n",
       "    <tr>\n",
       "      <th>2</th>\n",
       "      <td>85</td>\n",
       "      <td>linux下禁止机箱蜂鸣方法</td>\n",
       "      <td>linux 禁止 机箱 蜂鸣 方法 图像 界面 注意 图形界面 即使 图像 界面 快捷键 出...</td>\n",
       "      <td>[0.17765841463414633, -0.13135253658536586, -0...</td>\n",
       "    </tr>\n",
       "  </tbody>\n",
       "</table>\n",
       "</div>"
      ],
      "text/plain": [
       "   id                                         post_title  \\\n",
       "0  78                     JavaScript对Select的子元素Option的操作   \n",
       "1  83  当用header方法输出内容时出现“Cannot modify header informa...   \n",
       "2  85                                     linux下禁止机箱蜂鸣方法   \n",
       "\n",
       "                                               words  \\\n",
       "0  javascript select 元素 option 操作 javascript 删除 所...   \n",
       "1  当用 header 方法 输出 内容 出现 cannot modify header inf...   \n",
       "2  linux 禁止 机箱 蜂鸣 方法 图像 界面 注意 图形界面 即使 图像 界面 快捷键 出...   \n",
       "\n",
       "                                          doc_vector  \n",
       "0  [-0.009905433333333337, -0.035128016666666616,...  \n",
       "1  [0.173896275, -0.12689985, -0.0503381250000000...  \n",
       "2  [0.17765841463414633, -0.13135253658536586, -0...  "
      ]
     },
     "execution_count": 25,
     "metadata": {},
     "output_type": "execute_result"
    }
   ],
   "source": [
    "df.head(3)"
   ]
  },
  {
   "cell_type": "markdown",
   "metadata": {},
   "source": [
    "### 4. 对于给定文章算出最相似的10篇文章"
   ]
  },
  {
   "cell_type": "code",
   "execution_count": 26,
   "metadata": {},
   "outputs": [
    {
     "data": {
      "text/html": [
       "<div>\n",
       "<style scoped>\n",
       "    .dataframe tbody tr th:only-of-type {\n",
       "        vertical-align: middle;\n",
       "    }\n",
       "\n",
       "    .dataframe tbody tr th {\n",
       "        vertical-align: top;\n",
       "    }\n",
       "\n",
       "    .dataframe thead th {\n",
       "        text-align: right;\n",
       "    }\n",
       "</style>\n",
       "<table border=\"1\" class=\"dataframe\">\n",
       "  <thead>\n",
       "    <tr style=\"text-align: right;\">\n",
       "      <th></th>\n",
       "      <th>id</th>\n",
       "      <th>post_title</th>\n",
       "      <th>words</th>\n",
       "      <th>doc_vector</th>\n",
       "    </tr>\n",
       "  </thead>\n",
       "  <tbody>\n",
       "    <tr>\n",
       "      <th>256</th>\n",
       "      <td>2583</td>\n",
       "      <td>Pandas实现数据的合并concat</td>\n",
       "      <td>pandas 实现 数据 合并 concat 使用 场景 批量 合并 相同 格式 excel...</td>\n",
       "      <td>[0.08943355725190855, 0.030144005089058516, -0...</td>\n",
       "    </tr>\n",
       "  </tbody>\n",
       "</table>\n",
       "</div>"
      ],
      "text/plain": [
       "       id           post_title  \\\n",
       "256  2583  Pandas实现数据的合并concat   \n",
       "\n",
       "                                                 words  \\\n",
       "256  pandas 实现 数据 合并 concat 使用 场景 批量 合并 相同 格式 excel...   \n",
       "\n",
       "                                            doc_vector  \n",
       "256  [0.08943355725190855, 0.030144005089058516, -0...  "
      ]
     },
     "execution_count": 26,
     "metadata": {},
     "output_type": "execute_result"
    }
   ],
   "source": [
    "# 随便挑选一篇文章ID，2583：pandas，581：PHP\n",
    "article_id = 2583\n",
    "df.loc[df[\"id\"]==article_id]"
   ]
  },
  {
   "cell_type": "code",
   "execution_count": 27,
   "metadata": {},
   "outputs": [
    {
     "data": {
      "text/plain": [
       "array([ 0.08943356,  0.03014401, -0.09006977, -0.02731997,  0.05179058,\n",
       "        0.04674453,  0.12136632,  0.25354821,  0.02870415,  0.04621916,\n",
       "        0.04734693,  0.1351055 ,  0.17485938, -0.06233441,  0.17950214,\n",
       "       -0.00837079, -0.01600692, -0.27576146, -0.14170541,  0.03026148,\n",
       "       -0.22526636,  0.04579459, -0.00277373,  0.3662426 ,  0.05201343,\n",
       "        0.11794778,  0.07008808,  0.17864109,  0.17178644,  0.25083649,\n",
       "        0.02684472,  0.20249682, -0.01191662,  0.0375168 , -0.11493228,\n",
       "       -0.29814698,  0.35999032, -0.02458926, -0.22154447, -0.01708258,\n",
       "        0.03299186, -0.0163032 ,  0.82471329,  0.1949902 ,  0.1692371 ,\n",
       "       -0.03245536, -0.16097337, -0.37849819, -0.09599682, -0.00306864,\n",
       "       -0.1398844 ,  0.05044387, -0.19399513,  0.01291793,  0.20199475,\n",
       "       -0.11384116,  0.14129119,  0.21140099,  0.14539386, -0.02095362,\n",
       "        0.22135324,  0.23319376,  0.09078029, -0.01802279, -0.3661004 ,\n",
       "       -0.23829312, -0.02314223,  0.25474953, -0.08019111,  0.27856857,\n",
       "       -0.15397121,  0.05088526,  0.21124741,  0.24755107,  0.00680301,\n",
       "        0.27004074, -0.12208816,  0.10281594,  0.13400962, -0.04942496,\n",
       "       -0.01286805,  0.09124082, -0.18913507,  0.07965249,  0.10086535,\n",
       "       -0.47098733, -0.1733982 ,  0.08778476, -0.33774137, -0.22439793,\n",
       "        0.33360631,  0.01037362,  0.08248078, -0.10966231,  0.08661781,\n",
       "        0.17918952, -0.03825629, -0.19577866, -0.23967757, -0.01749018,\n",
       "       -0.10741321,  0.04667702, -0.20262187,  0.21014992, -0.20906823,\n",
       "        0.1457089 ,  0.3468878 , -0.37609583,  0.1829377 , -0.12011537,\n",
       "        0.00282958, -0.21047619, -0.01017639, -0.27528397, -0.25098421,\n",
       "        0.03236012,  0.15633875, -0.3003546 , -0.00226696, -0.26351169,\n",
       "        0.24469681, -0.3417192 , -0.0321688 , -0.01451209,  0.15107532,\n",
       "        0.29388317, -0.10062905, -0.1568725 , -0.11611672, -0.01749963,\n",
       "        0.11330533, -0.04492198,  0.02005434, -0.16511026, -0.23841206,\n",
       "       -0.19138755, -0.02504909, -0.15292195, -0.27120413, -0.00359654,\n",
       "       -0.11402198, -0.38874635, -0.39111531, -0.46623462,  0.05026596,\n",
       "       -0.06094799, -0.04001147,  0.17376247,  0.15264795,  0.31137244,\n",
       "        0.04499338,  0.06731483, -0.07960865,  0.03655136,  0.04230372,\n",
       "        0.07980133,  0.01109919, -0.0280402 ,  0.16590512,  0.01905727,\n",
       "        0.4626045 ,  0.00593149, -0.10727663,  0.11741741, -0.07536976,\n",
       "        0.04421852, -0.3850393 , -0.04471659,  0.52314294, -0.12565861,\n",
       "       -0.03725673,  0.16549697,  0.02691724,  0.44398108, -0.15797001,\n",
       "        0.20556273, -0.11145596,  0.20606988, -0.38773721,  0.21502111,\n",
       "       -0.10430786, -0.20495859,  0.1340555 ,  0.11228482,  0.08460881,\n",
       "        0.06725765, -0.24801872,  0.21486938, -0.25427895, -0.05175503,\n",
       "        0.24968937,  0.0990399 ,  0.12700555,  0.018117  ,  0.12374077,\n",
       "        0.35384129,  0.30316487, -0.23262472, -0.08806089,  0.09142561])"
      ]
     },
     "execution_count": 27,
     "metadata": {},
     "output_type": "execute_result"
    }
   ],
   "source": [
    "article_embedding = df.loc[df[\"id\"]==article_id, \"doc_vector\"].iloc[0]\n",
    "article_embedding"
   ]
  },
  {
   "cell_type": "code",
   "execution_count": 28,
   "metadata": {},
   "outputs": [],
   "source": [
    "# 余弦相似度\n",
    "from scipy.spatial import distance\n",
    "df[\"sim_value\"] = df[\"doc_vector\"].map(lambda x : 1 - distance.cosine(article_embedding, x))"
   ]
  },
  {
   "cell_type": "code",
   "execution_count": 29,
   "metadata": {},
   "outputs": [
    {
     "data": {
      "text/html": [
       "<div>\n",
       "<style scoped>\n",
       "    .dataframe tbody tr th:only-of-type {\n",
       "        vertical-align: middle;\n",
       "    }\n",
       "\n",
       "    .dataframe tbody tr th {\n",
       "        vertical-align: top;\n",
       "    }\n",
       "\n",
       "    .dataframe thead th {\n",
       "        text-align: right;\n",
       "    }\n",
       "</style>\n",
       "<table border=\"1\" class=\"dataframe\">\n",
       "  <thead>\n",
       "    <tr style=\"text-align: right;\">\n",
       "      <th></th>\n",
       "      <th>id</th>\n",
       "      <th>post_title</th>\n",
       "      <th>sim_value</th>\n",
       "    </tr>\n",
       "  </thead>\n",
       "  <tbody>\n",
       "    <tr>\n",
       "      <th>0</th>\n",
       "      <td>78</td>\n",
       "      <td>JavaScript对Select的子元素Option的操作</td>\n",
       "      <td>0.946522</td>\n",
       "    </tr>\n",
       "    <tr>\n",
       "      <th>1</th>\n",
       "      <td>83</td>\n",
       "      <td>当用header方法输出内容时出现“Cannot modify header informa...</td>\n",
       "      <td>0.902300</td>\n",
       "    </tr>\n",
       "    <tr>\n",
       "      <th>2</th>\n",
       "      <td>85</td>\n",
       "      <td>linux下禁止机箱蜂鸣方法</td>\n",
       "      <td>0.835502</td>\n",
       "    </tr>\n",
       "  </tbody>\n",
       "</table>\n",
       "</div>"
      ],
      "text/plain": [
       "   id                                         post_title  sim_value\n",
       "0  78                     JavaScript对Select的子元素Option的操作   0.946522\n",
       "1  83  当用header方法输出内容时出现“Cannot modify header informa...   0.902300\n",
       "2  85                                     linux下禁止机箱蜂鸣方法   0.835502"
      ]
     },
     "execution_count": 29,
     "metadata": {},
     "output_type": "execute_result"
    }
   ],
   "source": [
    "df[[\"id\", \"post_title\", \"sim_value\"]].head(3)"
   ]
  },
  {
   "cell_type": "code",
   "execution_count": 30,
   "metadata": {},
   "outputs": [
    {
     "data": {
      "text/html": [
       "<div>\n",
       "<style scoped>\n",
       "    .dataframe tbody tr th:only-of-type {\n",
       "        vertical-align: middle;\n",
       "    }\n",
       "\n",
       "    .dataframe tbody tr th {\n",
       "        vertical-align: top;\n",
       "    }\n",
       "\n",
       "    .dataframe thead th {\n",
       "        text-align: right;\n",
       "    }\n",
       "</style>\n",
       "<table border=\"1\" class=\"dataframe\">\n",
       "  <thead>\n",
       "    <tr style=\"text-align: right;\">\n",
       "      <th></th>\n",
       "      <th>id</th>\n",
       "      <th>post_title</th>\n",
       "      <th>sim_value</th>\n",
       "    </tr>\n",
       "  </thead>\n",
       "  <tbody>\n",
       "    <tr>\n",
       "      <th>256</th>\n",
       "      <td>2583</td>\n",
       "      <td>Pandas实现数据的合并concat</td>\n",
       "      <td>1.000000</td>\n",
       "    </tr>\n",
       "    <tr>\n",
       "      <th>255</th>\n",
       "      <td>2574</td>\n",
       "      <td>Pandas的Index索引有什么用途？</td>\n",
       "      <td>0.969753</td>\n",
       "    </tr>\n",
       "    <tr>\n",
       "      <th>236</th>\n",
       "      <td>2447</td>\n",
       "      <td>Spark使用word2vec训练item2vec实现内容相关推荐</td>\n",
       "      <td>0.969372</td>\n",
       "    </tr>\n",
       "    <tr>\n",
       "      <th>223</th>\n",
       "      <td>2261</td>\n",
       "      <td>PyCharm开发PySpark程序的配置和实例</td>\n",
       "      <td>0.966778</td>\n",
       "    </tr>\n",
       "    <tr>\n",
       "      <th>183</th>\n",
       "      <td>1707</td>\n",
       "      <td>Python使用list字段模式或者dict字段模式读取文件的方法</td>\n",
       "      <td>0.966085</td>\n",
       "    </tr>\n",
       "    <tr>\n",
       "      <th>258</th>\n",
       "      <td>2591</td>\n",
       "      <td>怎样使用Pandas批量拆分与合并Excel文件？</td>\n",
       "      <td>0.966083</td>\n",
       "    </tr>\n",
       "    <tr>\n",
       "      <th>219</th>\n",
       "      <td>2167</td>\n",
       "      <td>使用Kmeans对Word2vec的输出做聚类</td>\n",
       "      <td>0.965381</td>\n",
       "    </tr>\n",
       "    <tr>\n",
       "      <th>227</th>\n",
       "      <td>2303</td>\n",
       "      <td>Spark使用JAVA编写自定义函数修改DataFrame</td>\n",
       "      <td>0.965047</td>\n",
       "    </tr>\n",
       "    <tr>\n",
       "      <th>42</th>\n",
       "      <td>210</td>\n",
       "      <td>使用DEDE的全国地区分类导入到其它CMS</td>\n",
       "      <td>0.964852</td>\n",
       "    </tr>\n",
       "    <tr>\n",
       "      <th>79</th>\n",
       "      <td>591</td>\n",
       "      <td>PHP数组使用、特性、函数的总结</td>\n",
       "      <td>0.964392</td>\n",
       "    </tr>\n",
       "  </tbody>\n",
       "</table>\n",
       "</div>"
      ],
      "text/plain": [
       "       id                         post_title  sim_value\n",
       "256  2583                Pandas实现数据的合并concat   1.000000\n",
       "255  2574               Pandas的Index索引有什么用途？   0.969753\n",
       "236  2447  Spark使用word2vec训练item2vec实现内容相关推荐   0.969372\n",
       "223  2261           PyCharm开发PySpark程序的配置和实例   0.966778\n",
       "183  1707  Python使用list字段模式或者dict字段模式读取文件的方法   0.966085\n",
       "258  2591          怎样使用Pandas批量拆分与合并Excel文件？   0.966083\n",
       "219  2167            使用Kmeans对Word2vec的输出做聚类   0.965381\n",
       "227  2303      Spark使用JAVA编写自定义函数修改DataFrame   0.965047\n",
       "42    210              使用DEDE的全国地区分类导入到其它CMS   0.964852\n",
       "79    591                   PHP数组使用、特性、函数的总结   0.964392"
      ]
     },
     "execution_count": 30,
     "metadata": {},
     "output_type": "execute_result"
    }
   ],
   "source": [
    "# 按相似度降序排列，查询前10条\n",
    "df.sort_values(by=\"sim_value\", ascending=False)[[\"id\", \"post_title\", \"sim_value\"]].head(10)"
   ]
  },
  {
   "cell_type": "code",
   "execution_count": null,
   "metadata": {},
   "outputs": [],
   "source": []
  }
 ],
 "metadata": {
  "kernelspec": {
   "display_name": "Python [conda env:dlsys1]",
   "language": "python",
   "name": "conda-env-dlsys1-py"
  },
  "language_info": {
   "codemirror_mode": {
    "name": "ipython",
    "version": 3
   },
   "file_extension": ".py",
   "mimetype": "text/x-python",
   "name": "python",
   "nbconvert_exporter": "python",
   "pygments_lexer": "ipython3",
   "version": "3.7.9"
  }
 },
 "nbformat": 4,
 "nbformat_minor": 4
}
