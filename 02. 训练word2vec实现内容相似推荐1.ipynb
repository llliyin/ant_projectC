{
 "cells": [
  {
   "cell_type": "markdown",
   "metadata": {},
   "source": [
    "## PySpark训练word2vec实现内容相似推荐\n",
    "\n",
    "实现步骤：\n",
    "1. 获取文章列表数据，包括ID、标题、内容\n",
    "2. 使用jieba实现中文分词\n",
    "3. 送入pyspark实现word2vec的训练，得到文章向量\n",
    "4. 对于输入的ID，计算最相似的文章列表"
   ]
  },
  {
   "cell_type": "markdown",
   "metadata": {},
   "source": [
    "### 1. 获取数据"
   ]
  },
  {
   "cell_type": "code",
   "execution_count": 1,
   "metadata": {},
   "outputs": [],
   "source": [
    "import pandas as pd"
   ]
  },
  {
   "cell_type": "code",
   "execution_count": 3,
   "metadata": {},
   "outputs": [],
   "source": [
    "csv_file = \"./datas/ZhengFeixiang.csv\"\n",
    "csv_data = pd.read_csv(csv_file, low_memory = False)#防止弹出警告\n",
    "df = pd.DataFrame(csv_data)"
   ]
  },
  {
   "cell_type": "code",
   "execution_count": 4,
   "metadata": {},
   "outputs": [
    {
     "data": {
      "text/html": [
       "<div>\n",
       "<style scoped>\n",
       "    .dataframe tbody tr th:only-of-type {\n",
       "        vertical-align: middle;\n",
       "    }\n",
       "\n",
       "    .dataframe tbody tr th {\n",
       "        vertical-align: top;\n",
       "    }\n",
       "\n",
       "    .dataframe thead th {\n",
       "        text-align: right;\n",
       "    }\n",
       "</style>\n",
       "<table border=\"1\" class=\"dataframe\">\n",
       "  <thead>\n",
       "    <tr style=\"text-align: right;\">\n",
       "      <th></th>\n",
       "      <th>名字</th>\n",
       "      <th>账号</th>\n",
       "      <th>试卷</th>\n",
       "      <th>试题</th>\n",
       "      <th>对0错1</th>\n",
       "      <th>时间</th>\n",
       "      <th>详情</th>\n",
       "      <th>试卷名称</th>\n",
       "      <th>试题简介</th>\n",
       "      <th>章节</th>\n",
       "    </tr>\n",
       "  </thead>\n",
       "  <tbody>\n",
       "    <tr>\n",
       "      <th>0</th>\n",
       "      <td>郑飞翔</td>\n",
       "      <td>202216012</td>\n",
       "      <td>5695</td>\n",
       "      <td>46499</td>\n",
       "      <td>0</td>\n",
       "      <td>20-09-07 10:27:23</td>\n",
       "      <td>e6d7733789671e1ea1ce5ff38cda6558</td>\n",
       "      <td>第1节　长度和时间的测量</td>\n",
       "      <td>(柳州中考)一个中学生的身高约为()</td>\n",
       "      <td>NaN</td>\n",
       "    </tr>\n",
       "    <tr>\n",
       "      <th>1</th>\n",
       "      <td>郑飞翔</td>\n",
       "      <td>202216012</td>\n",
       "      <td>5695</td>\n",
       "      <td>46500</td>\n",
       "      <td>0</td>\n",
       "      <td>20-09-07 10:27:24</td>\n",
       "      <td>be7b44771617bbdda1ce5ff38cda6558</td>\n",
       "      <td>第1节　长度和时间的测量</td>\n",
       "      <td>下列长度单位换算正确的是()</td>\n",
       "      <td>NaN</td>\n",
       "    </tr>\n",
       "    <tr>\n",
       "      <th>2</th>\n",
       "      <td>郑飞翔</td>\n",
       "      <td>202216012</td>\n",
       "      <td>5695</td>\n",
       "      <td>46502</td>\n",
       "      <td>1</td>\n",
       "      <td>20-09-07 10:27:25</td>\n",
       "      <td>f7b4315417d11ef3a1ce5ff38cda6558</td>\n",
       "      <td>第1节　长度和时间的测量</td>\n",
       "      <td>初中生小红想对比测量一个月前后自己的身高变化,选用下列哪种尺最合适()</td>\n",
       "      <td>NaN</td>\n",
       "    </tr>\n",
       "  </tbody>\n",
       "</table>\n",
       "</div>"
      ],
      "text/plain": [
       "    名字         账号    试卷     试题  对0错1                 时间  \\\n",
       "0  郑飞翔  202216012  5695  46499     0  20-09-07 10:27:23   \n",
       "1  郑飞翔  202216012  5695  46500     0  20-09-07 10:27:24   \n",
       "2  郑飞翔  202216012  5695  46502     1  20-09-07 10:27:25   \n",
       "\n",
       "                                 详情          试卷名称  \\\n",
       "0  e6d7733789671e1ea1ce5ff38cda6558  第1节　长度和时间的测量   \n",
       "1  be7b44771617bbdda1ce5ff38cda6558  第1节　长度和时间的测量   \n",
       "2  f7b4315417d11ef3a1ce5ff38cda6558  第1节　长度和时间的测量   \n",
       "\n",
       "                                  试题简介  章节  \n",
       "0                   (柳州中考)一个中学生的身高约为() NaN  \n",
       "1                       下列长度单位换算正确的是() NaN  \n",
       "2  初中生小红想对比测量一个月前后自己的身高变化,选用下列哪种尺最合适() NaN  "
      ]
     },
     "execution_count": 4,
     "metadata": {},
     "output_type": "execute_result"
    }
   ],
   "source": [
    "df.head(3)"
   ]
  },
  {
   "cell_type": "markdown",
   "metadata": {},
   "source": [
    "### 2. 使用jieba实现中文分词\n",
    "\n",
    "pip install jieba"
   ]
  },
  {
   "cell_type": "code",
   "execution_count": 5,
   "metadata": {},
   "outputs": [],
   "source": [
    "import jieba"
   ]
  },
  {
   "cell_type": "code",
   "execution_count": 6,
   "metadata": {},
   "outputs": [
    {
     "name": "stderr",
     "output_type": "stream",
     "text": [
      "Building prefix dict from the default dictionary ...\n",
      "Loading model from cache C:\\Users\\ADMINI~1\\AppData\\Local\\Temp\\2\\jieba.cache\n",
      "Loading model cost 1.506 seconds.\n",
      "Prefix dict has been built successfully.\n"
     ]
    }
   ],
   "source": [
    "def do_cut_words(param_df):\n",
    "    # 标题加上关键词，是整个待分词的句子\n",
    "    sentence = param_df[\"试卷名称\"]+\",\"+(param_df[\"试题简介\"])\n",
    "    # 调用分词\n",
    "    words = list(jieba.cut(sentence))\n",
    "    # 做过滤，变成小写\n",
    "    result = []\n",
    "    for word in words:\n",
    "        if not word or len(word)==0 or len(word)==1: \n",
    "            continue\n",
    "        word = word.lower()\n",
    "        result.append(word)\n",
    "    return \" \".join(result)\n",
    "\n",
    "df[\"words\"] = df.apply(do_cut_words, axis=1)"
   ]
  },
  {
   "cell_type": "code",
   "execution_count": 8,
   "metadata": {},
   "outputs": [],
   "source": [
    "#添加自增的序号列\n",
    "df['id'] = range(len(df))"
   ]
  },
  {
   "cell_type": "code",
   "execution_count": 9,
   "metadata": {},
   "outputs": [
    {
     "data": {
      "text/html": [
       "<div>\n",
       "<style scoped>\n",
       "    .dataframe tbody tr th:only-of-type {\n",
       "        vertical-align: middle;\n",
       "    }\n",
       "\n",
       "    .dataframe tbody tr th {\n",
       "        vertical-align: top;\n",
       "    }\n",
       "\n",
       "    .dataframe thead th {\n",
       "        text-align: right;\n",
       "    }\n",
       "</style>\n",
       "<table border=\"1\" class=\"dataframe\">\n",
       "  <thead>\n",
       "    <tr style=\"text-align: right;\">\n",
       "      <th></th>\n",
       "      <th>名字</th>\n",
       "      <th>账号</th>\n",
       "      <th>试卷</th>\n",
       "      <th>试题</th>\n",
       "      <th>对0错1</th>\n",
       "      <th>时间</th>\n",
       "      <th>详情</th>\n",
       "      <th>试卷名称</th>\n",
       "      <th>试题简介</th>\n",
       "      <th>章节</th>\n",
       "      <th>words</th>\n",
       "      <th>id</th>\n",
       "    </tr>\n",
       "  </thead>\n",
       "  <tbody>\n",
       "    <tr>\n",
       "      <th>0</th>\n",
       "      <td>郑飞翔</td>\n",
       "      <td>202216012</td>\n",
       "      <td>5695</td>\n",
       "      <td>46499</td>\n",
       "      <td>0</td>\n",
       "      <td>20-09-07 10:27:23</td>\n",
       "      <td>e6d7733789671e1ea1ce5ff38cda6558</td>\n",
       "      <td>第1节　长度和时间的测量</td>\n",
       "      <td>(柳州中考)一个中学生的身高约为()</td>\n",
       "      <td>NaN</td>\n",
       "      <td>长度 时间 测量 柳州 中考 一个 中学生 身高</td>\n",
       "      <td>0</td>\n",
       "    </tr>\n",
       "    <tr>\n",
       "      <th>1</th>\n",
       "      <td>郑飞翔</td>\n",
       "      <td>202216012</td>\n",
       "      <td>5695</td>\n",
       "      <td>46500</td>\n",
       "      <td>0</td>\n",
       "      <td>20-09-07 10:27:24</td>\n",
       "      <td>be7b44771617bbdda1ce5ff38cda6558</td>\n",
       "      <td>第1节　长度和时间的测量</td>\n",
       "      <td>下列长度单位换算正确的是()</td>\n",
       "      <td>NaN</td>\n",
       "      <td>长度 时间 测量 下列 长度 单位 换算 正确</td>\n",
       "      <td>1</td>\n",
       "    </tr>\n",
       "    <tr>\n",
       "      <th>2</th>\n",
       "      <td>郑飞翔</td>\n",
       "      <td>202216012</td>\n",
       "      <td>5695</td>\n",
       "      <td>46502</td>\n",
       "      <td>1</td>\n",
       "      <td>20-09-07 10:27:25</td>\n",
       "      <td>f7b4315417d11ef3a1ce5ff38cda6558</td>\n",
       "      <td>第1节　长度和时间的测量</td>\n",
       "      <td>初中生小红想对比测量一个月前后自己的身高变化,选用下列哪种尺最合适()</td>\n",
       "      <td>NaN</td>\n",
       "      <td>长度 时间 测量 初中生 小红想 对比 测量 一个月 前后 自己 身高 变化 选用 下列 哪...</td>\n",
       "      <td>2</td>\n",
       "    </tr>\n",
       "    <tr>\n",
       "      <th>3</th>\n",
       "      <td>郑飞翔</td>\n",
       "      <td>202216012</td>\n",
       "      <td>5695</td>\n",
       "      <td>46503</td>\n",
       "      <td>0</td>\n",
       "      <td>20-09-07 10:27:25</td>\n",
       "      <td>b9cb1cfbf6353064a1ce5ff38cda6558</td>\n",
       "      <td>第1节　长度和时间的测量</td>\n",
       "      <td>如图所示测量木块长度的方法中正确的是()</td>\n",
       "      <td>NaN</td>\n",
       "      <td>长度 时间 测量 如图所示 测量 木块 长度 方法 正确</td>\n",
       "      <td>3</td>\n",
       "    </tr>\n",
       "    <tr>\n",
       "      <th>4</th>\n",
       "      <td>郑飞翔</td>\n",
       "      <td>202216012</td>\n",
       "      <td>5695</td>\n",
       "      <td>46505</td>\n",
       "      <td>1</td>\n",
       "      <td>20-09-07 10:27:25</td>\n",
       "      <td>8e3e6b329f6b4ab3a1ce5ff38cda6558</td>\n",
       "      <td>第1节　长度和时间的测量</td>\n",
       "      <td>下列各个过程中经历的时间最接近1秒的是()</td>\n",
       "      <td>NaN</td>\n",
       "      <td>长度 时间 测量 下列 各个 过程 经历 时间 接近</td>\n",
       "      <td>4</td>\n",
       "    </tr>\n",
       "  </tbody>\n",
       "</table>\n",
       "</div>"
      ],
      "text/plain": [
       "    名字         账号    试卷     试题  对0错1                 时间  \\\n",
       "0  郑飞翔  202216012  5695  46499     0  20-09-07 10:27:23   \n",
       "1  郑飞翔  202216012  5695  46500     0  20-09-07 10:27:24   \n",
       "2  郑飞翔  202216012  5695  46502     1  20-09-07 10:27:25   \n",
       "3  郑飞翔  202216012  5695  46503     0  20-09-07 10:27:25   \n",
       "4  郑飞翔  202216012  5695  46505     1  20-09-07 10:27:25   \n",
       "\n",
       "                                 详情          试卷名称  \\\n",
       "0  e6d7733789671e1ea1ce5ff38cda6558  第1节　长度和时间的测量   \n",
       "1  be7b44771617bbdda1ce5ff38cda6558  第1节　长度和时间的测量   \n",
       "2  f7b4315417d11ef3a1ce5ff38cda6558  第1节　长度和时间的测量   \n",
       "3  b9cb1cfbf6353064a1ce5ff38cda6558  第1节　长度和时间的测量   \n",
       "4  8e3e6b329f6b4ab3a1ce5ff38cda6558  第1节　长度和时间的测量   \n",
       "\n",
       "                                  试题简介  章节  \\\n",
       "0                   (柳州中考)一个中学生的身高约为() NaN   \n",
       "1                       下列长度单位换算正确的是() NaN   \n",
       "2  初中生小红想对比测量一个月前后自己的身高变化,选用下列哪种尺最合适() NaN   \n",
       "3                 如图所示测量木块长度的方法中正确的是() NaN   \n",
       "4                下列各个过程中经历的时间最接近1秒的是() NaN   \n",
       "\n",
       "                                               words  id  \n",
       "0                           长度 时间 测量 柳州 中考 一个 中学生 身高   0  \n",
       "1                            长度 时间 测量 下列 长度 单位 换算 正确   1  \n",
       "2  长度 时间 测量 初中生 小红想 对比 测量 一个月 前后 自己 身高 变化 选用 下列 哪...   2  \n",
       "3                       长度 时间 测量 如图所示 测量 木块 长度 方法 正确   3  \n",
       "4                         长度 时间 测量 下列 各个 过程 经历 时间 接近   4  "
      ]
     },
     "execution_count": 9,
     "metadata": {},
     "output_type": "execute_result"
    }
   ],
   "source": [
    "df.head(5)"
   ]
  },
  {
   "cell_type": "code",
   "execution_count": 11,
   "metadata": {},
   "outputs": [],
   "source": [
    "# 保存成CSV\n",
    "df[[\"id\", \"试卷名称\",\"试题简介\", \"words\"]].to_csv(\"./datas/questions_wordsegs.csv\", index=False)"
   ]
  },
  {
   "cell_type": "markdown",
   "metadata": {},
   "source": [
    "### 3. 使用pyspark训练word2vec"
   ]
  },
  {
   "cell_type": "code",
   "execution_count": 12,
   "metadata": {},
   "outputs": [],
   "source": [
    "import findspark\n",
    "findspark.init()\n",
    "\n",
    "from pyspark.sql import SparkSession\n",
    "spark = SparkSession \\\n",
    "    .builder \\\n",
    "    .appName(\"test pyspark\") \\\n",
    "    .getOrCreate()\n",
    "\n",
    "sc = spark.sparkContext"
   ]
  },
  {
   "cell_type": "markdown",
   "metadata": {},
   "source": [
    "#### Pyspark读取CSV数据"
   ]
  },
  {
   "cell_type": "code",
   "execution_count": 13,
   "metadata": {},
   "outputs": [
    {
     "name": "stdout",
     "output_type": "stream",
     "text": [
      "+---+-----------------------+--------------------------------------+--------------------------------+\n",
      "| id|               试卷名称|                              试题简介|                           words|\n",
      "+---+-----------------------+--------------------------------------+--------------------------------+\n",
      "|  0|第1节　长度和时间的测量|      (柳州中考)一个中学生的身高约为()|长度 时间 测量 柳州 中考 一个...|\n",
      "|  1|第1节　长度和时间的测量|            下列长度单位换算正确的是()|长度 时间 测量 下列 长度 单位...|\n",
      "|  2|第1节　长度和时间的测量| 初中生小红想对比测量一个月前后自己...|长度 时间 测量 初中生 小红想 ...|\n",
      "|  3|第1节　长度和时间的测量|如图所示测量木块长度的方法中正确的是()|长度 时间 测量 如图所示 测量 ...|\n",
      "|  4|第1节　长度和时间的测量|  下列各个过程中经历的时间最接近1秒...|长度 时间 测量 下列 各个 过程...|\n",
      "+---+-----------------------+--------------------------------------+--------------------------------+\n",
      "only showing top 5 rows\n",
      "\n"
     ]
    }
   ],
   "source": [
    "df = spark.read.csv(\"./datas/questions_wordsegs.csv\", header=True)\n",
    "df.show(5)"
   ]
  },
  {
   "cell_type": "code",
   "execution_count": 14,
   "metadata": {},
   "outputs": [],
   "source": [
    "from pyspark.sql import functions as F\n",
    "from pyspark.sql import types as T"
   ]
  },
  {
   "cell_type": "code",
   "execution_count": 15,
   "metadata": {},
   "outputs": [],
   "source": [
    "# 把非常的字符串格式变成LIST形式\n",
    "df = df.withColumn('words_split', F.split(df.words, \" \"))"
   ]
  },
  {
   "cell_type": "markdown",
   "metadata": {},
   "source": [
    "#### 实现word2vec的训练与转换"
   ]
  },
  {
   "cell_type": "code",
   "execution_count": 16,
   "metadata": {},
   "outputs": [],
   "source": [
    "# https://spark.apache.org/docs/2.4.6/ml-features.html#word2vec\n",
    "\n",
    "from pyspark.ml.feature import Word2Vec\n",
    "\n",
    "word2Vec = Word2Vec(\n",
    "    vectorSize=5, \n",
    "    minCount=0, \n",
    "    inputCol=\"words_split\", \n",
    "    outputCol=\"word2vec\")\n",
    "\n",
    "model = word2Vec.fit(df)\n",
    "\n",
    "# 注意这一步，会得到整个doc的word embedding\n",
    "df_word2vec = model.transform(df)"
   ]
  },
  {
   "cell_type": "code",
   "execution_count": 17,
   "metadata": {
    "scrolled": true
   },
   "outputs": [
    {
     "name": "stdout",
     "output_type": "stream",
     "text": [
      "root\n",
      " |-- id: string (nullable = true)\n",
      " |-- 试卷名称: string (nullable = true)\n",
      " |-- 试题简介: string (nullable = true)\n",
      " |-- words: string (nullable = true)\n",
      " |-- words_split: array (nullable = true)\n",
      " |    |-- element: string (containsNull = true)\n",
      " |-- word2vec: vector (nullable = true)\n",
      "\n"
     ]
    }
   ],
   "source": [
    "df_word2vec.printSchema()"
   ]
  },
  {
   "cell_type": "code",
   "execution_count": 18,
   "metadata": {},
   "outputs": [
    {
     "name": "stdout",
     "output_type": "stream",
     "text": [
      "+------------------------------------------------------------------------------------------------------------+\n",
      "|word2vec                                                                                                    |\n",
      "+------------------------------------------------------------------------------------------------------------+\n",
      "|[0.030937873758375645,-0.20446800347417593,0.07760335924103856,0.05660174344666302,0.021415553288534284]    |\n",
      "|[-0.07923593744635582,-0.26820977265015244,-0.04264575755223632,-0.14990293351002038,0.08549118041992188]   |\n",
      "|[-0.008039933629333973,-0.20343961799517274,-0.061635409540031105,0.011067528743296862,0.048510019201785326]|\n",
      "+------------------------------------------------------------------------------------------------------------+\n",
      "only showing top 3 rows\n",
      "\n"
     ]
    }
   ],
   "source": [
    "df_word2vec.select(\"word2vec\").show(3, truncate=False)"
   ]
  },
  {
   "cell_type": "code",
   "execution_count": 22,
   "metadata": {},
   "outputs": [],
   "source": [
    "df_word2vec.select(\"id\", \"试卷名称\",\"试题简介\", \"word2vec\") \\\n",
    "           .toPandas() \\\n",
    "           .to_csv('./datas/questions_words_word2vec.csv', index=False)"
   ]
  },
  {
   "cell_type": "markdown",
   "metadata": {},
   "source": [
    "### 4. 对于给定文章算出最相似的10篇文章"
   ]
  },
  {
   "cell_type": "code",
   "execution_count": 23,
   "metadata": {},
   "outputs": [
    {
     "data": {
      "text/html": [
       "<div>\n",
       "<style scoped>\n",
       "    .dataframe tbody tr th:only-of-type {\n",
       "        vertical-align: middle;\n",
       "    }\n",
       "\n",
       "    .dataframe tbody tr th {\n",
       "        vertical-align: top;\n",
       "    }\n",
       "\n",
       "    .dataframe thead th {\n",
       "        text-align: right;\n",
       "    }\n",
       "</style>\n",
       "<table border=\"1\" class=\"dataframe\">\n",
       "  <thead>\n",
       "    <tr style=\"text-align: right;\">\n",
       "      <th></th>\n",
       "      <th>id</th>\n",
       "      <th>试卷名称</th>\n",
       "      <th>试题简介</th>\n",
       "      <th>word2vec</th>\n",
       "    </tr>\n",
       "  </thead>\n",
       "  <tbody>\n",
       "    <tr>\n",
       "      <th>0</th>\n",
       "      <td>0</td>\n",
       "      <td>第1节　长度和时间的测量</td>\n",
       "      <td>(柳州中考)一个中学生的身高约为()</td>\n",
       "      <td>[0.030937873758375645,-0.20446800347417593,0.0...</td>\n",
       "    </tr>\n",
       "    <tr>\n",
       "      <th>1</th>\n",
       "      <td>1</td>\n",
       "      <td>第1节　长度和时间的测量</td>\n",
       "      <td>下列长度单位换算正确的是()</td>\n",
       "      <td>[-0.07923593744635582,-0.26820977265015244,-0....</td>\n",
       "    </tr>\n",
       "    <tr>\n",
       "      <th>2</th>\n",
       "      <td>2</td>\n",
       "      <td>第1节　长度和时间的测量</td>\n",
       "      <td>初中生小红想对比测量一个月前后自己的身高变化,选用下列哪种尺最合适()</td>\n",
       "      <td>[-0.008039933629333973,-0.20343961799517274,-0...</td>\n",
       "    </tr>\n",
       "  </tbody>\n",
       "</table>\n",
       "</div>"
      ],
      "text/plain": [
       "   id          试卷名称                                 试题简介  \\\n",
       "0   0  第1节　长度和时间的测量                   (柳州中考)一个中学生的身高约为()   \n",
       "1   1  第1节　长度和时间的测量                       下列长度单位换算正确的是()   \n",
       "2   2  第1节　长度和时间的测量  初中生小红想对比测量一个月前后自己的身高变化,选用下列哪种尺最合适()   \n",
       "\n",
       "                                            word2vec  \n",
       "0  [0.030937873758375645,-0.20446800347417593,0.0...  \n",
       "1  [-0.07923593744635582,-0.26820977265015244,-0....  \n",
       "2  [-0.008039933629333973,-0.20343961799517274,-0...  "
      ]
     },
     "execution_count": 23,
     "metadata": {},
     "output_type": "execute_result"
    }
   ],
   "source": [
    "df = pd.read_csv(\"./datas/questions_words_word2vec.csv\")\n",
    "df.head(3)"
   ]
  },
  {
   "cell_type": "code",
   "execution_count": 24,
   "metadata": {},
   "outputs": [],
   "source": [
    "import numpy as np\n",
    "import json"
   ]
  },
  {
   "cell_type": "code",
   "execution_count": 25,
   "metadata": {},
   "outputs": [],
   "source": [
    "df[\"word2vec\"] = df[\"word2vec\"].map(lambda x : np.array(json.loads(x)))"
   ]
  },
  {
   "cell_type": "code",
   "execution_count": 26,
   "metadata": {},
   "outputs": [
    {
     "data": {
      "text/html": [
       "<div>\n",
       "<style scoped>\n",
       "    .dataframe tbody tr th:only-of-type {\n",
       "        vertical-align: middle;\n",
       "    }\n",
       "\n",
       "    .dataframe tbody tr th {\n",
       "        vertical-align: top;\n",
       "    }\n",
       "\n",
       "    .dataframe thead th {\n",
       "        text-align: right;\n",
       "    }\n",
       "</style>\n",
       "<table border=\"1\" class=\"dataframe\">\n",
       "  <thead>\n",
       "    <tr style=\"text-align: right;\">\n",
       "      <th></th>\n",
       "      <th>id</th>\n",
       "      <th>试卷名称</th>\n",
       "      <th>试题简介</th>\n",
       "      <th>word2vec</th>\n",
       "    </tr>\n",
       "  </thead>\n",
       "  <tbody>\n",
       "    <tr>\n",
       "      <th>0</th>\n",
       "      <td>0</td>\n",
       "      <td>第1节　长度和时间的测量</td>\n",
       "      <td>(柳州中考)一个中学生的身高约为()</td>\n",
       "      <td>[0.030937873758375645, -0.20446800347417593, 0...</td>\n",
       "    </tr>\n",
       "    <tr>\n",
       "      <th>1</th>\n",
       "      <td>1</td>\n",
       "      <td>第1节　长度和时间的测量</td>\n",
       "      <td>下列长度单位换算正确的是()</td>\n",
       "      <td>[-0.07923593744635582, -0.26820977265015244, -...</td>\n",
       "    </tr>\n",
       "    <tr>\n",
       "      <th>2</th>\n",
       "      <td>2</td>\n",
       "      <td>第1节　长度和时间的测量</td>\n",
       "      <td>初中生小红想对比测量一个月前后自己的身高变化,选用下列哪种尺最合适()</td>\n",
       "      <td>[-0.008039933629333973, -0.20343961799517274, ...</td>\n",
       "    </tr>\n",
       "  </tbody>\n",
       "</table>\n",
       "</div>"
      ],
      "text/plain": [
       "   id          试卷名称                                 试题简介  \\\n",
       "0   0  第1节　长度和时间的测量                   (柳州中考)一个中学生的身高约为()   \n",
       "1   1  第1节　长度和时间的测量                       下列长度单位换算正确的是()   \n",
       "2   2  第1节　长度和时间的测量  初中生小红想对比测量一个月前后自己的身高变化,选用下列哪种尺最合适()   \n",
       "\n",
       "                                            word2vec  \n",
       "0  [0.030937873758375645, -0.20446800347417593, 0...  \n",
       "1  [-0.07923593744635582, -0.26820977265015244, -...  \n",
       "2  [-0.008039933629333973, -0.20343961799517274, ...  "
      ]
     },
     "execution_count": 26,
     "metadata": {},
     "output_type": "execute_result"
    }
   ],
   "source": [
    "df.head(3)"
   ]
  },
  {
   "cell_type": "code",
   "execution_count": 27,
   "metadata": {},
   "outputs": [
    {
     "data": {
      "text/html": [
       "<div>\n",
       "<style scoped>\n",
       "    .dataframe tbody tr th:only-of-type {\n",
       "        vertical-align: middle;\n",
       "    }\n",
       "\n",
       "    .dataframe tbody tr th {\n",
       "        vertical-align: top;\n",
       "    }\n",
       "\n",
       "    .dataframe thead th {\n",
       "        text-align: right;\n",
       "    }\n",
       "</style>\n",
       "<table border=\"1\" class=\"dataframe\">\n",
       "  <thead>\n",
       "    <tr style=\"text-align: right;\">\n",
       "      <th></th>\n",
       "      <th>id</th>\n",
       "      <th>试卷名称</th>\n",
       "      <th>试题简介</th>\n",
       "      <th>word2vec</th>\n",
       "    </tr>\n",
       "  </thead>\n",
       "  <tbody>\n",
       "    <tr>\n",
       "      <th>581</th>\n",
       "      <td>581</td>\n",
       "      <td>-</td>\n",
       "      <td>(2014武汉中考)下列关于声的说法正确的是</td>\n",
       "      <td>[-0.28099851975483553, 0.4025644143777234, -0....</td>\n",
       "    </tr>\n",
       "  </tbody>\n",
       "</table>\n",
       "</div>"
      ],
      "text/plain": [
       "      id 试卷名称                    试题简介  \\\n",
       "581  581    -  (2014武汉中考)下列关于声的说法正确的是   \n",
       "\n",
       "                                              word2vec  \n",
       "581  [-0.28099851975483553, 0.4025644143777234, -0....  "
      ]
     },
     "execution_count": 27,
     "metadata": {},
     "output_type": "execute_result"
    }
   ],
   "source": [
    "# 随便挑选一篇文章ID，2583：pandas，581：PHP\n",
    "article_id = 581\n",
    "df.loc[df[\"id\"]==article_id]"
   ]
  },
  {
   "cell_type": "code",
   "execution_count": 28,
   "metadata": {},
   "outputs": [
    {
     "data": {
      "text/plain": [
       "array([-0.28099852,  0.40256441, -0.37525716, -0.02898862,  0.63318622])"
      ]
     },
     "execution_count": 28,
     "metadata": {},
     "output_type": "execute_result"
    }
   ],
   "source": [
    "article_embedding = df.loc[df[\"id\"]==article_id, \"word2vec\"].iloc[0]\n",
    "article_embedding"
   ]
  },
  {
   "cell_type": "code",
   "execution_count": 29,
   "metadata": {},
   "outputs": [],
   "source": [
    "# 余弦相似度\n",
    "from scipy.spatial import distance\n",
    "df[\"sim_value\"] = df[\"word2vec\"].map(lambda x : 1 - distance.cosine(article_embedding, x))"
   ]
  },
  {
   "cell_type": "code",
   "execution_count": 32,
   "metadata": {},
   "outputs": [
    {
     "data": {
      "text/html": [
       "<div>\n",
       "<style scoped>\n",
       "    .dataframe tbody tr th:only-of-type {\n",
       "        vertical-align: middle;\n",
       "    }\n",
       "\n",
       "    .dataframe tbody tr th {\n",
       "        vertical-align: top;\n",
       "    }\n",
       "\n",
       "    .dataframe thead th {\n",
       "        text-align: right;\n",
       "    }\n",
       "</style>\n",
       "<table border=\"1\" class=\"dataframe\">\n",
       "  <thead>\n",
       "    <tr style=\"text-align: right;\">\n",
       "      <th></th>\n",
       "      <th>id</th>\n",
       "      <th>试题简介</th>\n",
       "      <th>sim_value</th>\n",
       "    </tr>\n",
       "  </thead>\n",
       "  <tbody>\n",
       "    <tr>\n",
       "      <th>0</th>\n",
       "      <td>0</td>\n",
       "      <td>(柳州中考)一个中学生的身高约为()</td>\n",
       "      <td>-0.533752</td>\n",
       "    </tr>\n",
       "    <tr>\n",
       "      <th>1</th>\n",
       "      <td>1</td>\n",
       "      <td>下列长度单位换算正确的是()</td>\n",
       "      <td>-0.038270</td>\n",
       "    </tr>\n",
       "    <tr>\n",
       "      <th>2</th>\n",
       "      <td>2</td>\n",
       "      <td>初中生小红想对比测量一个月前后自己的身高变化,选用下列哪种尺最合适()</td>\n",
       "      <td>-0.135035</td>\n",
       "    </tr>\n",
       "    <tr>\n",
       "      <th>3</th>\n",
       "      <td>3</td>\n",
       "      <td>如图所示测量木块长度的方法中正确的是()</td>\n",
       "      <td>-0.290644</td>\n",
       "    </tr>\n",
       "    <tr>\n",
       "      <th>4</th>\n",
       "      <td>4</td>\n",
       "      <td>下列各个过程中经历的时间最接近1秒的是()</td>\n",
       "      <td>-0.125849</td>\n",
       "    </tr>\n",
       "    <tr>\n",
       "      <th>5</th>\n",
       "      <td>5</td>\n",
       "      <td>物理实验室中,常用的测量时间的工具是()</td>\n",
       "      <td>-0.555954</td>\n",
       "    </tr>\n",
       "    <tr>\n",
       "      <th>6</th>\n",
       "      <td>6</td>\n",
       "      <td>图为小组同学学习长度测量后讨论交流的情境,下列关于误差说法中正确的是()</td>\n",
       "      <td>0.514104</td>\n",
       "    </tr>\n",
       "    <tr>\n",
       "      <th>7</th>\n",
       "      <td>7</td>\n",
       "      <td>在测量物体长度时,由于下列原因造成测量结果有差异,其中属于误差的是()</td>\n",
       "      <td>-0.373059</td>\n",
       "    </tr>\n",
       "    <tr>\n",
       "      <th>8</th>\n",
       "      <td>8</td>\n",
       "      <td>下列估计的数据与实际最接近的是()</td>\n",
       "      <td>-0.068386</td>\n",
       "    </tr>\n",
       "    <tr>\n",
       "      <th>9</th>\n",
       "      <td>9</td>\n",
       "      <td>某同学测得物理课本长为25.91 cm,宽为18.35 cm,那么他所用刻度尺的分度值为()</td>\n",
       "      <td>-0.351328</td>\n",
       "    </tr>\n",
       "  </tbody>\n",
       "</table>\n",
       "</div>"
      ],
      "text/plain": [
       "   id                                            试题简介  sim_value\n",
       "0   0                              (柳州中考)一个中学生的身高约为()  -0.533752\n",
       "1   1                                  下列长度单位换算正确的是()  -0.038270\n",
       "2   2             初中生小红想对比测量一个月前后自己的身高变化,选用下列哪种尺最合适()  -0.135035\n",
       "3   3                            如图所示测量木块长度的方法中正确的是()  -0.290644\n",
       "4   4                           下列各个过程中经历的时间最接近1秒的是()  -0.125849\n",
       "5   5                            物理实验室中,常用的测量时间的工具是()  -0.555954\n",
       "6   6            图为小组同学学习长度测量后讨论交流的情境,下列关于误差说法中正确的是()   0.514104\n",
       "7   7             在测量物体长度时,由于下列原因造成测量结果有差异,其中属于误差的是()  -0.373059\n",
       "8   8                               下列估计的数据与实际最接近的是()  -0.068386\n",
       "9   9  某同学测得物理课本长为25.91 cm,宽为18.35 cm,那么他所用刻度尺的分度值为()  -0.351328"
      ]
     },
     "execution_count": 32,
     "metadata": {},
     "output_type": "execute_result"
    }
   ],
   "source": [
    "df[[\"id\", \"试题简介\", \"sim_value\"]].head(10)"
   ]
  },
  {
   "cell_type": "code",
   "execution_count": 34,
   "metadata": {},
   "outputs": [
    {
     "data": {
      "text/html": [
       "<div>\n",
       "<style scoped>\n",
       "    .dataframe tbody tr th:only-of-type {\n",
       "        vertical-align: middle;\n",
       "    }\n",
       "\n",
       "    .dataframe tbody tr th {\n",
       "        vertical-align: top;\n",
       "    }\n",
       "\n",
       "    .dataframe thead th {\n",
       "        text-align: right;\n",
       "    }\n",
       "</style>\n",
       "<table border=\"1\" class=\"dataframe\">\n",
       "  <thead>\n",
       "    <tr style=\"text-align: right;\">\n",
       "      <th></th>\n",
       "      <th>id</th>\n",
       "      <th>试卷名称</th>\n",
       "      <th>试题简介</th>\n",
       "      <th>word2vec</th>\n",
       "      <th>sim_value</th>\n",
       "    </tr>\n",
       "  </thead>\n",
       "  <tbody>\n",
       "    <tr>\n",
       "      <th>581</th>\n",
       "      <td>581</td>\n",
       "      <td>-</td>\n",
       "      <td>(2014武汉中考)下列关于声的说法正确的是</td>\n",
       "      <td>[-0.28099851975483553, 0.4025644143777234, -0....</td>\n",
       "      <td>1.000000</td>\n",
       "    </tr>\n",
       "    <tr>\n",
       "      <th>444</th>\n",
       "      <td>444</td>\n",
       "      <td>-</td>\n",
       "      <td>(2014武汉中考)下列关于声的说法正确的是</td>\n",
       "      <td>[-0.28099851975483553, 0.4025644143777234, -0....</td>\n",
       "      <td>1.000000</td>\n",
       "    </tr>\n",
       "    <tr>\n",
       "      <th>407</th>\n",
       "      <td>407</td>\n",
       "      <td>-</td>\n",
       "      <td>(2014武汉中考)下列关于声的说法正确的是</td>\n",
       "      <td>[-0.28099851975483553, 0.4025644143777234, -0....</td>\n",
       "      <td>1.000000</td>\n",
       "    </tr>\n",
       "    <tr>\n",
       "      <th>516</th>\n",
       "      <td>516</td>\n",
       "      <td>-</td>\n",
       "      <td>(2014武汉中考)下列关于声的说法正确的是</td>\n",
       "      <td>[-0.28099851975483553, 0.4025644143777234, -0....</td>\n",
       "      <td>1.000000</td>\n",
       "    </tr>\n",
       "    <tr>\n",
       "      <th>527</th>\n",
       "      <td>527</td>\n",
       "      <td>-</td>\n",
       "      <td>(2014武汉中考)下列关于声的说法正确的是</td>\n",
       "      <td>[-0.28099851975483553, 0.4025644143777234, -0....</td>\n",
       "      <td>1.000000</td>\n",
       "    </tr>\n",
       "    <tr>\n",
       "      <th>545</th>\n",
       "      <td>545</td>\n",
       "      <td>-</td>\n",
       "      <td>(2014武汉中考)下列关于声的说法正确的是</td>\n",
       "      <td>[-0.28099851975483553, 0.4025644143777234, -0....</td>\n",
       "      <td>1.000000</td>\n",
       "    </tr>\n",
       "    <tr>\n",
       "      <th>594</th>\n",
       "      <td>594</td>\n",
       "      <td>-</td>\n",
       "      <td>(2014武汉中考)下列关于声的说法正确的是</td>\n",
       "      <td>[-0.28099851975483553, 0.4025644143777234, -0....</td>\n",
       "      <td>1.000000</td>\n",
       "    </tr>\n",
       "    <tr>\n",
       "      <th>617</th>\n",
       "      <td>617</td>\n",
       "      <td>-</td>\n",
       "      <td>(2014武汉中考)下列关于声的说法正确的是</td>\n",
       "      <td>[-0.28099851975483553, 0.4025644143777234, -0....</td>\n",
       "      <td>1.000000</td>\n",
       "    </tr>\n",
       "    <tr>\n",
       "      <th>730</th>\n",
       "      <td>730</td>\n",
       "      <td>-</td>\n",
       "      <td>(2014武汉中考)下列关于声的说法正确的是</td>\n",
       "      <td>[-0.28099851975483553, 0.4025644143777234, -0....</td>\n",
       "      <td>1.000000</td>\n",
       "    </tr>\n",
       "    <tr>\n",
       "      <th>401</th>\n",
       "      <td>401</td>\n",
       "      <td>-</td>\n",
       "      <td>(2014武汉中考)下列关于声的说法正确的是</td>\n",
       "      <td>[-0.28099851975483553, 0.4025644143777234, -0....</td>\n",
       "      <td>1.000000</td>\n",
       "    </tr>\n",
       "    <tr>\n",
       "      <th>654</th>\n",
       "      <td>654</td>\n",
       "      <td>-</td>\n",
       "      <td>(2014武汉中考)下列关于声的说法正确的是</td>\n",
       "      <td>[-0.28099851975483553, 0.4025644143777234, -0....</td>\n",
       "      <td>1.000000</td>\n",
       "    </tr>\n",
       "    <tr>\n",
       "      <th>427</th>\n",
       "      <td>427</td>\n",
       "      <td>-</td>\n",
       "      <td>(2008武汉中考)下列有关声现象的说法正确的是  (   )</td>\n",
       "      <td>[-0.28658276866190135, 0.35105537297204137, -0...</td>\n",
       "      <td>0.998115</td>\n",
       "    </tr>\n",
       "    <tr>\n",
       "      <th>604</th>\n",
       "      <td>604</td>\n",
       "      <td>-</td>\n",
       "      <td>(2008武汉中考)下列有关声现象的说法正确的是  (   )</td>\n",
       "      <td>[-0.28658276866190135, 0.35105537297204137, -0...</td>\n",
       "      <td>0.998115</td>\n",
       "    </tr>\n",
       "    <tr>\n",
       "      <th>462</th>\n",
       "      <td>462</td>\n",
       "      <td>-</td>\n",
       "      <td>(2008武汉中考)下列有关声现象的说法正确的是  (   )</td>\n",
       "      <td>[-0.28658276866190135, 0.35105537297204137, -0...</td>\n",
       "      <td>0.998115</td>\n",
       "    </tr>\n",
       "    <tr>\n",
       "      <th>436</th>\n",
       "      <td>436</td>\n",
       "      <td>-</td>\n",
       "      <td>(2008武汉中考)下列有关声现象的说法正确的是  (   )</td>\n",
       "      <td>[-0.28658276866190135, 0.35105537297204137, -0...</td>\n",
       "      <td>0.998115</td>\n",
       "    </tr>\n",
       "    <tr>\n",
       "      <th>722</th>\n",
       "      <td>722</td>\n",
       "      <td>-</td>\n",
       "      <td>(2008武汉中考)下列有关声现象的说法正确的是  (   )</td>\n",
       "      <td>[-0.28658276866190135, 0.35105537297204137, -0...</td>\n",
       "      <td>0.998115</td>\n",
       "    </tr>\n",
       "    <tr>\n",
       "      <th>579</th>\n",
       "      <td>579</td>\n",
       "      <td>-</td>\n",
       "      <td>(2008武汉中考)下列有关声现象的说法正确的是  (   )</td>\n",
       "      <td>[-0.28658276866190135, 0.35105537297204137, -0...</td>\n",
       "      <td>0.998115</td>\n",
       "    </tr>\n",
       "    <tr>\n",
       "      <th>656</th>\n",
       "      <td>656</td>\n",
       "      <td>-</td>\n",
       "      <td>(2008武汉中考)下列有关声现象的说法正确的是  (   )</td>\n",
       "      <td>[-0.28658276866190135, 0.35105537297204137, -0...</td>\n",
       "      <td>0.998115</td>\n",
       "    </tr>\n",
       "    <tr>\n",
       "      <th>704</th>\n",
       "      <td>704</td>\n",
       "      <td>-</td>\n",
       "      <td>(2008武汉中考)下列有关声现象的说法正确的是  (   )</td>\n",
       "      <td>[-0.28658276866190135, 0.35105537297204137, -0...</td>\n",
       "      <td>0.998115</td>\n",
       "    </tr>\n",
       "    <tr>\n",
       "      <th>620</th>\n",
       "      <td>620</td>\n",
       "      <td>-</td>\n",
       "      <td>(2015•武汉)关于声现象,下列说法正确的是(  )</td>\n",
       "      <td>[-0.26862154422061785, 0.41157598740288187, -0...</td>\n",
       "      <td>0.996107</td>\n",
       "    </tr>\n",
       "  </tbody>\n",
       "</table>\n",
       "</div>"
      ],
      "text/plain": [
       "      id 试卷名称                             试题简介  \\\n",
       "581  581    -           (2014武汉中考)下列关于声的说法正确的是   \n",
       "444  444    -           (2014武汉中考)下列关于声的说法正确的是   \n",
       "407  407    -           (2014武汉中考)下列关于声的说法正确的是   \n",
       "516  516    -           (2014武汉中考)下列关于声的说法正确的是   \n",
       "527  527    -           (2014武汉中考)下列关于声的说法正确的是   \n",
       "545  545    -           (2014武汉中考)下列关于声的说法正确的是   \n",
       "594  594    -           (2014武汉中考)下列关于声的说法正确的是   \n",
       "617  617    -           (2014武汉中考)下列关于声的说法正确的是   \n",
       "730  730    -           (2014武汉中考)下列关于声的说法正确的是   \n",
       "401  401    -           (2014武汉中考)下列关于声的说法正确的是   \n",
       "654  654    -           (2014武汉中考)下列关于声的说法正确的是   \n",
       "427  427    -  (2008武汉中考)下列有关声现象的说法正确的是  (   )   \n",
       "604  604    -  (2008武汉中考)下列有关声现象的说法正确的是  (   )   \n",
       "462  462    -  (2008武汉中考)下列有关声现象的说法正确的是  (   )   \n",
       "436  436    -  (2008武汉中考)下列有关声现象的说法正确的是  (   )   \n",
       "722  722    -  (2008武汉中考)下列有关声现象的说法正确的是  (   )   \n",
       "579  579    -  (2008武汉中考)下列有关声现象的说法正确的是  (   )   \n",
       "656  656    -  (2008武汉中考)下列有关声现象的说法正确的是  (   )   \n",
       "704  704    -  (2008武汉中考)下列有关声现象的说法正确的是  (   )   \n",
       "620  620    -      (2015•武汉)关于声现象,下列说法正确的是(  )   \n",
       "\n",
       "                                              word2vec  sim_value  \n",
       "581  [-0.28099851975483553, 0.4025644143777234, -0....   1.000000  \n",
       "444  [-0.28099851975483553, 0.4025644143777234, -0....   1.000000  \n",
       "407  [-0.28099851975483553, 0.4025644143777234, -0....   1.000000  \n",
       "516  [-0.28099851975483553, 0.4025644143777234, -0....   1.000000  \n",
       "527  [-0.28099851975483553, 0.4025644143777234, -0....   1.000000  \n",
       "545  [-0.28099851975483553, 0.4025644143777234, -0....   1.000000  \n",
       "594  [-0.28099851975483553, 0.4025644143777234, -0....   1.000000  \n",
       "617  [-0.28099851975483553, 0.4025644143777234, -0....   1.000000  \n",
       "730  [-0.28099851975483553, 0.4025644143777234, -0....   1.000000  \n",
       "401  [-0.28099851975483553, 0.4025644143777234, -0....   1.000000  \n",
       "654  [-0.28099851975483553, 0.4025644143777234, -0....   1.000000  \n",
       "427  [-0.28658276866190135, 0.35105537297204137, -0...   0.998115  \n",
       "604  [-0.28658276866190135, 0.35105537297204137, -0...   0.998115  \n",
       "462  [-0.28658276866190135, 0.35105537297204137, -0...   0.998115  \n",
       "436  [-0.28658276866190135, 0.35105537297204137, -0...   0.998115  \n",
       "722  [-0.28658276866190135, 0.35105537297204137, -0...   0.998115  \n",
       "579  [-0.28658276866190135, 0.35105537297204137, -0...   0.998115  \n",
       "656  [-0.28658276866190135, 0.35105537297204137, -0...   0.998115  \n",
       "704  [-0.28658276866190135, 0.35105537297204137, -0...   0.998115  \n",
       "620  [-0.26862154422061785, 0.41157598740288187, -0...   0.996107  "
      ]
     },
     "execution_count": 34,
     "metadata": {},
     "output_type": "execute_result"
    }
   ],
   "source": [
    "# 按相似度降序排列，查询前10条\n",
    "df.sort_values(by=\"sim_value\", ascending=False).head(20)"
   ]
  },
  {
   "cell_type": "code",
   "execution_count": null,
   "metadata": {},
   "outputs": [],
   "source": []
  }
 ],
 "metadata": {
  "kernelspec": {
   "display_name": "Python [conda env:dlsys1]",
   "language": "python",
   "name": "conda-env-dlsys1-py"
  },
  "language_info": {
   "codemirror_mode": {
    "name": "ipython",
    "version": 3
   },
   "file_extension": ".py",
   "mimetype": "text/x-python",
   "name": "python",
   "nbconvert_exporter": "python",
   "pygments_lexer": "ipython3",
   "version": "3.7.9"
  }
 },
 "nbformat": 4,
 "nbformat_minor": 4
}
